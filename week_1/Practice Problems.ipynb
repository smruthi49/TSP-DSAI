{
 "cells": [
  {
   "cell_type": "markdown",
   "metadata": {},
   "source": [
    "### Problem 1: Add two numbers\n",
    "Let's start off with a simple one. Write a Python function that adds two numbers.\n",
    "\n",
    "For example, `my_func(2, 10)` should return 12.\n",
    "\n"
   ]
  },
  {
   "cell_type": "code",
   "execution_count": 1,
   "metadata": {},
   "outputs": [],
   "source": [
    "def add_two(a, b):\n",
    "    return a + b"
   ]
  },
  {
   "cell_type": "code",
   "execution_count": 2,
   "metadata": {},
   "outputs": [
    {
     "data": {
      "text/plain": [
       "45"
      ]
     },
     "execution_count": 2,
     "metadata": {},
     "output_type": "execute_result"
    }
   ],
   "source": [
    "add_two(7,38)"
   ]
  },
  {
   "cell_type": "markdown",
   "metadata": {},
   "source": [
    "### Problem 2: Add n numbers\n",
    "Now, write a function that takes in an arbitrary number of arguments and returns their sum.\n",
    "\n",
    "For instance, `my_func(2, 3)` would return 5, `my_func(5, 1, 4)` would return 10, and so on.\n",
    "\n",
    "Hint: Google *args in Python and what they can do."
   ]
  },
  {
   "cell_type": "code",
   "execution_count": 3,
   "metadata": {},
   "outputs": [],
   "source": [
    "def add_n(*args):\n",
    "    return sum(args)"
   ]
  },
  {
   "cell_type": "code",
   "execution_count": 4,
   "metadata": {},
   "outputs": [
    {
     "data": {
      "text/plain": [
       "26"
      ]
     },
     "execution_count": 4,
     "metadata": {},
     "output_type": "execute_result"
    }
   ],
   "source": [
    "add_n(8,5,3,7,3)"
   ]
  },
  {
   "cell_type": "markdown",
   "metadata": {},
   "source": [
    "### Problem 3: Factorial of a number\n",
    "I'm sure you must have heard of factorials. Mathematically, they're defined as follows:\n",
    "\n",
    "```n! = n x (n-1) x (n-2) x ... x 2 x 1```\\\n",
    "So 1! is 1, 2! is 2, 5! is 120, and so on. You need to write a program that takes in a single argument, and prints the factorial of the number.\n",
    "\n",
    "For instance, `my_func(4)` would output 24 and `my_func(3)` would output 6."
   ]
  },
  {
   "cell_type": "code",
   "execution_count": 5,
   "metadata": {},
   "outputs": [],
   "source": [
    "def factorial(n):\n",
    "    if n == 0:\n",
    "        return 1\n",
    "    else:\n",
    "        return n * factorial(n-1)"
   ]
  },
  {
   "cell_type": "code",
   "execution_count": 6,
   "metadata": {},
   "outputs": [
    {
     "data": {
      "text/plain": [
       "720"
      ]
     },
     "execution_count": 6,
     "metadata": {},
     "output_type": "execute_result"
    }
   ],
   "source": [
    "factorial(6)"
   ]
  },
  {
   "cell_type": "markdown",
   "metadata": {},
   "source": [
    "### Problem 4: Temperature converter\n",
    "Write a function that converts celsius to fahrenheit, and vice versa.\n",
    "\n",
    "The formulae are as follows:\n",
    "\n",
    "Fahrenheit to Celsius: (F - 32) * 5/9\\\n",
    "Celsius to Fahrenheit: (C * 9/5) + 32\n",
    "Your function should take 2 arguments: a temperature and the scale the temperature needs to be converted to.\n",
    "\n",
    "For instance, `my_func(100, 'F')` would assume that 100 is in Celsius and would convert it to 212F (in other words, it would return 212). On the other hand `my_func(100, 'C')` would assume 100 is in Fahrenheit and would convert it to 37.7C.\n",
    "\n",
    "You can assume that the second argument of your function will always be either C or F."
   ]
  },
  {
   "cell_type": "code",
   "execution_count": 7,
   "metadata": {},
   "outputs": [],
   "source": [
    "def temperate_convert(temp, scale):\n",
    "    if scale == 'C':\n",
    "        return (temp - 32) * 5/9\n",
    "    elif scale == 'F':\n",
    "        return temp * 9/5 + 32"
   ]
  },
  {
   "cell_type": "code",
   "execution_count": 8,
   "metadata": {},
   "outputs": [
    {
     "data": {
      "text/plain": [
       "37.77777777777778"
      ]
     },
     "execution_count": 8,
     "metadata": {},
     "output_type": "execute_result"
    }
   ],
   "source": [
    "temperate_convert(100, 'C')"
   ]
  },
  {
   "cell_type": "markdown",
   "metadata": {},
   "source": [
    "### Problem 5: List Manipulation\n",
    "Write a function that takes in a list of numbers as input and performs the following operations sequentially:\n",
    "\n",
    "Remove all odd numbers\\\n",
    "Double every remaining number\\\n",
    "Sum all the modified numbers\\\n",
    "There is one caveat here though: you're not allowed to use loops! If you feel like you don't know how to proceed, maybe googling List Comprehension in Python might help :)\n",
    "\n",
    "As an example, `my_func([1, 2, 3, 4, 5])` would remove all odd numbers to create [2, 4], double the numbers to create [4, 8] and then return a final answer of 12."
   ]
  },
  {
   "cell_type": "code",
   "execution_count": 9,
   "metadata": {},
   "outputs": [],
   "source": [
    "def list_operations(l):\n",
    "    l = [num for num in l if num%2 == 0]\n",
    "    l = [num*2 for num in l]\n",
    "    l = [l[i]+ l[i-1] for i in range(1,len(l))]\n",
    "    return l[-1]\n",
    "    "
   ]
  },
  {
   "cell_type": "code",
   "execution_count": 10,
   "metadata": {},
   "outputs": [
    {
     "data": {
      "text/plain": [
       "12"
      ]
     },
     "execution_count": 10,
     "metadata": {},
     "output_type": "execute_result"
    }
   ],
   "source": [
    "list_operations([1,2,3,4,5])"
   ]
  },
  {
   "cell_type": "markdown",
   "metadata": {},
   "source": [
    "### Problem 6: Patterns I\n",
    "\n",
    "Write a function that takes in a number, and prints out a pattern.\n",
    "\n",
    "If the number is 1, you should print out:\n",
    "\n",
    "```\n",
    "*\n",
    "```\n",
    "\n",
    "If it's 2, you should print out,\n",
    "\n",
    "```\n",
    "* \n",
    "**\n",
    "```\n",
    "\n",
    "If it's 5, the result should be \n",
    "\n",
    "```\n",
    "*\n",
    "**\n",
    "***\n",
    "****\n",
    "*****\n",
    "```\n",
    "\n",
    "And so on."
   ]
  },
  {
   "cell_type": "code",
   "execution_count": 11,
   "metadata": {},
   "outputs": [],
   "source": [
    "def print_pattern1(n):\n",
    "    for i in range(1,n+1):\n",
    "        print('*'*i)"
   ]
  },
  {
   "cell_type": "code",
   "execution_count": 12,
   "metadata": {},
   "outputs": [
    {
     "name": "stdout",
     "output_type": "stream",
     "text": [
      "*\n",
      "**\n",
      "***\n",
      "****\n",
      "*****\n"
     ]
    }
   ],
   "source": [
    "print_pattern1(5)"
   ]
  },
  {
   "cell_type": "markdown",
   "metadata": {},
   "source": [
    "### Problem 7: Patterns II\n",
    "\n",
    "Write a function that creates the mirror image of the pattern created in the last problem.\n",
    "\n",
    "The pattern when n=1 remains the same.\n",
    "\n",
    "For n=2,\n",
    "\n",
    "```\n",
    " *\n",
    "**\n",
    "```\n",
    "\n",
    "For n=5,\n",
    "\n",
    "```\n",
    "    *\n",
    "   **\n",
    "  ***\n",
    " **** \n",
    "*****\n",
    "```\n",
    "\n",
    "And so on."
   ]
  },
  {
   "cell_type": "code",
   "execution_count": 13,
   "metadata": {},
   "outputs": [],
   "source": [
    "def print_pattern2(n):\n",
    "    space = n-1\n",
    "    for i in range(1, n+1):\n",
    "        print(' '*space + '*'*i)\n",
    "        space -= 1"
   ]
  },
  {
   "cell_type": "code",
   "execution_count": 14,
   "metadata": {},
   "outputs": [
    {
     "name": "stdout",
     "output_type": "stream",
     "text": [
      "    *\n",
      "   **\n",
      "  ***\n",
      " ****\n",
      "*****\n"
     ]
    }
   ],
   "source": [
    "print_pattern2(5)"
   ]
  },
  {
   "cell_type": "markdown",
   "metadata": {},
   "source": [
    "### Problem 8: Word Frequency\n",
    "\n",
    "Write a function that takes in a string as a function and returns a dictionary of alphabet frequency in the string. Your function should ignore all characters apart from English uppercase and lowercase alphabets.\n",
    "\n",
    "For instance, `my_func(\"Hello World! 123\")` should return `{'h': 1, 'e': 1, 'l': 3, 'o': 2, 'w': 1, 'r': 1, 'd': 1}`."
   ]
  },
  {
   "cell_type": "code",
   "execution_count": 16,
   "metadata": {},
   "outputs": [],
   "source": [
    "def word_frequency(s):\n",
    "    s = s.lower()\n",
    "    d = {}\n",
    "    for letter in s:\n",
    "        if letter.isalpha() and letter not in d:\n",
    "            d[letter] = 1\n",
    "        elif letter.isalpha():\n",
    "            d[letter] += 1\n",
    "    return d"
   ]
  },
  {
   "cell_type": "code",
   "execution_count": 17,
   "metadata": {},
   "outputs": [
    {
     "data": {
      "text/plain": [
       "{'h': 1, 'e': 1, 'l': 3, 'o': 2, 'w': 1, 'r': 1, 'd': 1}"
      ]
     },
     "execution_count": 17,
     "metadata": {},
     "output_type": "execute_result"
    }
   ],
   "source": [
    "word_frequency('Hello, World!')"
   ]
  }
 ],
 "metadata": {
  "kernelspec": {
   "display_name": "dev",
   "language": "python",
   "name": "python3"
  },
  "language_info": {
   "codemirror_mode": {
    "name": "ipython",
    "version": 3
   },
   "file_extension": ".py",
   "mimetype": "text/x-python",
   "name": "python",
   "nbconvert_exporter": "python",
   "pygments_lexer": "ipython3",
   "version": "3.12.2"
  }
 },
 "nbformat": 4,
 "nbformat_minor": 2
}
